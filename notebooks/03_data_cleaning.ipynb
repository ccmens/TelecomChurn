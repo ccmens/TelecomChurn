{
 "cells": [
  {
   "cell_type": "markdown",
   "id": "e819dc05",
   "metadata": {},
   "source": [
    "## 🧼 03. Data Cleaning & Preprocessing\n",
    "\n",
    "In this notebook, we clean and prepare the dataset for modeling. The main steps include:\n",
    "\n",
    "- Fixing incorrect data types (e.g., `TotalCharges`)\n",
    "- Handling missing or invalid values\n",
    "- Encoding categorical variables\n",
    "- Creating derived or transformed features if needed\n"
   ]
  },
  {
   "cell_type": "code",
   "execution_count": 1,
   "id": "77b28415",
   "metadata": {},
   "outputs": [
    {
     "name": "stdout",
     "output_type": "stream",
     "text": [
      "✅ Final cleaned dataset shape: (7032, 7062)\n"
     ]
    }
   ],
   "source": [
    "\n",
    "import pandas as pd\n",
    "import numpy as np\n",
    "\n",
    "# Load cleaned dataset from 02 step\n",
    "df = pd.read_csv(\"../data/WA_Fn-UseC_-Telco-Customer-Churn.csv\")\n",
    "\n",
    "# Reapply conversion logic in case user skips notebook 02\n",
    "df['TotalCharges'] = pd.to_numeric(df['TotalCharges'], errors='coerce')\n",
    "df = df.dropna(subset=['TotalCharges']).reset_index(drop=True)\n",
    "\n",
    "# Step 1: Convert binary Yes/No columns to 1/0\n",
    "binary_cols = ['Partner', 'Dependents', 'PhoneService', 'PaperlessBilling']\n",
    "\n",
    "for col in binary_cols:\n",
    "    df[col] = df[col].map({'Yes': 1, 'No': 0})\n",
    "\n",
    "# Step 2: Convert target variable\n",
    "df['Churn'] = df['Churn'].map({'Yes': 1, 'No': 0})\n",
    "\n",
    "# Step 3: One-hot encode categorical features\n",
    "cat_cols = df.select_dtypes(include='object').columns.tolist()\n",
    "\n",
    "# Remove columns that were already encoded\n",
    "cat_cols = [col for col in cat_cols if col not in ['Churn']]\n",
    "\n",
    "# One-hot encode with drop_first\n",
    "df_encoded = pd.get_dummies(df, columns=cat_cols, drop_first=True)\n",
    "\n",
    "# Final check\n",
    "print(\"✅ Final cleaned dataset shape:\", df_encoded.shape)\n",
    "df_encoded.head()\n",
    "\n",
    "df_encoded.to_csv(\"../data/cleaned_churn_data.csv\", index=False)\n"
   ]
  },
  {
   "cell_type": "markdown",
   "id": "b57059bf",
   "metadata": {},
   "source": [
    "## ✅ Data Cleaning Summary & Key Insights\n",
    "\n",
    "- ✅ Converted `TotalCharges` from string to numeric and removed 11 rows with invalid values.\n",
    "- ✅ Mapped binary columns (`Yes`/`No`) such as `Partner`, `Dependents`, and `PaperlessBilling` into numeric (1/0) format.\n",
    "- ✅ Target variable `Churn` was encoded as a binary label (1 for churned, 0 for retained).\n",
    "- ✅ Performed one-hot encoding on all remaining categorical variables to ensure model compatibility.\n",
    "- ✅ Final cleaned dataset ，now it's ready for modeling.\n",
    "\n",
    "These cleaning steps ensure consistent data types and structure, reduce model bias from categorical misinterpretation, and prepare the dataset for machine learning workflows.\n"
   ]
  }
 ],
 "metadata": {
  "kernelspec": {
   "display_name": "venv",
   "language": "python",
   "name": "python3"
  },
  "language_info": {
   "codemirror_mode": {
    "name": "ipython",
    "version": 3
   },
   "file_extension": ".py",
   "mimetype": "text/x-python",
   "name": "python",
   "nbconvert_exporter": "python",
   "pygments_lexer": "ipython3",
   "version": "3.11.13"
  }
 },
 "nbformat": 4,
 "nbformat_minor": 5
}
